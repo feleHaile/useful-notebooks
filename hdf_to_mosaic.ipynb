{
 "cells": [
  {
   "cell_type": "code",
   "execution_count": 79,
   "metadata": {},
   "outputs": [],
   "source": [
    "from osgeo import gdal\n",
    "import pandas as pd\n",
    "import os\n",
    "import rasterio\n",
    "from rasterio.merge import merge \n",
    "import numpy as np\n",
    "import glob\n",
    "import matplotlib.pyplot as plt"
   ]
  },
  {
   "cell_type": "code",
   "execution_count": 80,
   "metadata": {},
   "outputs": [],
   "source": [
    "def updateGeoTransforms(srcGeo, xOff, yOff):\n",
    "    \n",
    "    out = [srcGeo[0] + xOff * srcGeo[1], srcGeo[1], srcGeo[2], srcGeo[3] + yOff * srcGeo[5], srcGeo[4], srcGeo[5]]\n",
    "    return out\n",
    "\n",
    "def makeFileName(x, suffix, ext = \"tif\"):\n",
    "    \n",
    "    base = os.path.splitext(os.path.basename(x))[0]\n",
    "    return base + '.' + suffix + '.' + ext"
   ]
  },
  {
   "cell_type": "code",
   "execution_count": 81,
   "metadata": {},
   "outputs": [],
   "source": [
    "def hdf_to_correcttif(hdf_file,tif_dir):\n",
    "    sds = gdal.Open(hdf_file, gdal.GA_ReadOnly).GetSubDatasets()\n",
    "    vi = gdal.Open(sds[0][0])\n",
    "    width = 4800\n",
    "    height= 4800\n",
    "    xOff = 0\n",
    "    yOff = 0\n",
    "    vi_src = gdal.Open(sds[0][0])\n",
    "    vi_np = vi_src.ReadAsArray(xOff, yOff, width, height)\n",
    "    \n",
    "    QA_src = gdal.Open(sds[11][0])\n",
    "    QA_np = QA_src.ReadAsArray(xOff, yOff, width, height)\n",
    "    \n",
    "    vi_np[np.logical_and(QA_np != 0, QA_np != 1)] = -3000\n",
    "    QA_np = None\n",
    "    \n",
    "    geoT = vi.GetGeoTransform()\n",
    "    proj = vi.GetProjection()\n",
    "    \n",
    "    ofile=tif_dir+hdf_file.split('/')[-1][:-4]+'.tif'\n",
    "    driver = gdal.GetDriverByName('GTiff')\n",
    "    dataset = driver.Create(ofile, width, height, 1, gdal.GDT_Int16)\n",
    "    dataset.SetGeoTransform(updateGeoTransforms(geoT, xOff, yOff))\n",
    "    dataset.SetProjection(proj)\n",
    "    dataset.GetRasterBand(1).SetNoDataValue(-3000)\n",
    "    dataset.GetRasterBand(1).WriteArray(vi_np)\n",
    "    \n",
    "    return ofile"
   ]
  },
  {
   "cell_type": "code",
   "execution_count": 82,
   "metadata": {},
   "outputs": [],
   "source": [
    "def mosaic_images(tif_files,ofile,bbox=True):\n",
    "    files_to_mosaic=[]\n",
    "    for tif_file in tif_files:\n",
    "        try:\n",
    "            src = rasterio.open(tif_file)#;show(src, cmap='viridis')\n",
    "            if bbox==True:\n",
    "                print(src.bounds)\n",
    "            files_to_mosaic.append(src)\n",
    "        except:\n",
    "            print('%s does not exist.'% tif_file)\n",
    "    mosaic,out_trans=merge(files_to_mosaic)  \n",
    "    out_meta=src.meta.copy()\n",
    "    out_meta.update({\"driver\":\"GTiff\",\"height\":mosaic.shape[1],\"width\":mosaic.shape[2],\"transform\":out_trans})\n",
    "    !rm $ofile\n",
    "    with rasterio.open(ofile,\"w\",**out_meta) as dest:\n",
    "        dest.write(mosaic)\n",
    "    return mosaic\n",
    "\n",
    "def files_to_mosaic(hdf_files,date):\n",
    "    files_to_mosaic=[]\n",
    "    for hdf_file in hdf_files:\n",
    "        files=hdf_file.split('.')[1]\n",
    "        if str(date) in str(files):\n",
    "            files_to_mosaic.append(hdf_file)\n",
    "    return files_to_mosaic\n",
    "\n",
    "def from_hdf_to_mosaic(date,hdf_files,tiffs,mosaics,bbox=True):\n",
    "    files=files_to_mosaic(hdf_files,date)\n",
    "    #print files\n",
    "    ofiles=[hdf_to_correcttif(hdf_file,tiffs) for hdf_file in files]\n",
    "    outfile=mosaics+'modis.ndvi.mosaic.'+date+'.tif'\n",
    "    !rm $outfile\n",
    "    mosaic=mosaic_images(ofiles,outfile,bbox=bbox)  \n",
    "    return outfile"
   ]
  },
  {
   "cell_type": "code",
   "execution_count": 98,
   "metadata": {},
   "outputs": [],
   "source": [
    "hdf_files=sorted(glob.glob('/Volumes/Disk 4/6month/*'))\n",
    "tiffs='/Users/santhosh_ram/Desktop/Learn/MOD13Q1/tiff/'\n",
    "mosaics='/Users/santhosh_ram/Desktop/Learn/MOD13Q1/mosaic/'"
   ]
  },
  {
   "cell_type": "code",
   "execution_count": 99,
   "metadata": {},
   "outputs": [
    {
     "name": "stdout",
     "output_type": "stream",
     "text": [
      "['A2017001', 'A2017017', 'A2017033', 'A2017049', 'A2017065', 'A2017081', 'A2017097', 'A2017113', 'A2017129', 'A2017145']\n"
     ]
    }
   ],
   "source": [
    "dates=pd.date_range(start='1/1/2017',end='5/31/2017', freq='16D').strftime('%y%j')\n",
    "ff=['A20'+str(each) for each in dates]\n",
    "print(ff)"
   ]
  },
  {
   "cell_type": "code",
   "execution_count": null,
   "metadata": {},
   "outputs": [
    {
     "name": "stdout",
     "output_type": "stream",
     "text": [
      "A2017001\n",
      "rm: /Users/santhosh_ram/Desktop/Learn/MOD13Q1/mosaic/modis.ndvi.mosaic.A2017001.tif: No such file or directory\n",
      "rm: /Users/santhosh_ram/Desktop/Learn/MOD13Q1/mosaic/modis.ndvi.mosaic.A2017001.tif: No such file or directory\n",
      "A2017017\n",
      "rm: /Users/santhosh_ram/Desktop/Learn/MOD13Q1/mosaic/modis.ndvi.mosaic.A2017017.tif: No such file or directory\n",
      "rm: /Users/santhosh_ram/Desktop/Learn/MOD13Q1/mosaic/modis.ndvi.mosaic.A2017017.tif: No such file or directory\n",
      "A2017033\n",
      "rm: /Users/santhosh_ram/Desktop/Learn/MOD13Q1/mosaic/modis.ndvi.mosaic.A2017033.tif: No such file or directory\n",
      "rm: /Users/santhosh_ram/Desktop/Learn/MOD13Q1/mosaic/modis.ndvi.mosaic.A2017033.tif: No such file or directory\n",
      "A2017049\n",
      "rm: /Users/santhosh_ram/Desktop/Learn/MOD13Q1/mosaic/modis.ndvi.mosaic.A2017049.tif: No such file or directory\n",
      "rm: /Users/santhosh_ram/Desktop/Learn/MOD13Q1/mosaic/modis.ndvi.mosaic.A2017049.tif: No such file or directory\n",
      "A2017065\n",
      "rm: /Users/santhosh_ram/Desktop/Learn/MOD13Q1/mosaic/modis.ndvi.mosaic.A2017065.tif: No such file or directory\n",
      "rm: /Users/santhosh_ram/Desktop/Learn/MOD13Q1/mosaic/modis.ndvi.mosaic.A2017065.tif: No such file or directory\n",
      "A2017081\n"
     ]
    }
   ],
   "source": [
    "mosaic_files=[]\n",
    "for fs in ff:\n",
    "    print (fs)\n",
    "    outfile=from_hdf_to_mosaic(fs,hdf_files,tiffs,mosaics,bbox=False)\n",
    "    mosaic_files.append(outfile)\n",
    "print(mosaic_files)"
   ]
  },
  {
   "cell_type": "code",
   "execution_count": null,
   "metadata": {},
   "outputs": [],
   "source": []
  }
 ],
 "metadata": {
  "kernelspec": {
   "display_name": "Python 2",
   "language": "python",
   "name": "python2"
  },
  "language_info": {
   "codemirror_mode": {
    "name": "ipython",
    "version": 2
   },
   "file_extension": ".py",
   "mimetype": "text/x-python",
   "name": "python",
   "nbconvert_exporter": "python",
   "pygments_lexer": "ipython2",
   "version": "2.7.15"
  }
 },
 "nbformat": 4,
 "nbformat_minor": 2
}
