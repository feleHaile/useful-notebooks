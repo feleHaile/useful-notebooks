{
 "cells": [
  {
   "cell_type": "code",
   "execution_count": null,
   "metadata": {},
   "outputs": [],
   "source": [
    "import pandas as pd\n",
    "import numpy as np\n",
    "import xarray as xr\n",
    "import glob \n",
    "import h5py"
   ]
  },
  {
   "cell_type": "code",
   "execution_count": null,
   "metadata": {},
   "outputs": [],
   "source": [
    "cpath = '/home/pankaj/mls/'\n",
    "fpath = '/home/pankaj/mls/ozo/'\n",
    "opath = '/home/pankaj/mls/ozh/'"
   ]
  },
  {
   "cell_type": "code",
   "execution_count": null,
   "metadata": {},
   "outputs": [],
   "source": [
    "def read_lat_lon(dfile):\n",
    "    field = dfile.split('-')[2].split('_')[0]\n",
    "    data = h5py.File(dfile, 'r+')['HDFEOS']['SWATHS'][field]    \n",
    "    # Geolocation fields\n",
    "    lat = data['Geolocation Fields']['Latitude'].value \n",
    "    lon = data['Geolocation Fields']['Longitude'].value  \n",
    "    lev = data['Geolocation Fields']['Pressure'].value  \n",
    "    lsa = data['Geolocation Fields']['LineOfSightAngle'].value \n",
    "    lst = data['Geolocation Fields']['LocalSolarTime'].value  \n",
    "    oga = data['Geolocation Fields']['OrbitGeodeticAngle'].value\n",
    "    sza = data['Geolocation Fields']['SolarZenithAngle'].value \n",
    "    tim = data['Geolocation Fields']['Time'].value  \n",
    "    chn = data['Geolocation Fields']['ChunkNumber'].value \n",
    "    return lat,lon,lev,lsa,lst,oga,sza,tim,chn\n",
    "\n",
    "def read_data(dfile):\n",
    "    field = dfile.split('-')[2].split('_')[0]\n",
    "    data = h5py.File(dfile, 'r+')['HDFEOS']['SWATHS'][field]    \n",
    "    #Data fields\n",
    "    con = data['Data Fields']['Convergence'].value  \n",
    "    prc = data['Data Fields']['L2gpPrecision'].value\n",
    "    mol = data['Data Fields']['L2gpValue'].value\n",
    "    qua = data['Data Fields']['Quality'].value\n",
    "    sta = data['Data Fields']['Status'].value\n",
    "    nlev = data['nLevels'].value; nlev = len(nlev)\n",
    "    ntim = data['nTimes'].value; ntim = len(ntim)\n",
    "    return field,con,prc,mol,qua,sta,nlev,ntim \n",
    "\n",
    "def correction(name, pre):\n",
    "    do = (pre>260) & (pre<262); eo = (pre<0.018)\n",
    "    ll = (pre>314) & (pre<318); hl = (pre>=0.0018) & (pre<0.0025)\n",
    "    \n",
    "    field,con,prc,mol,qua,sta,nlev,ntim = read_data(name)\n",
    "    mg = np.nan*np.zeros_like(mol); mp = np.nan*np.zeros_like(prc)\n",
    "    \n",
    "    if field in ['GPH', 'Temperature']:\n",
    "        criteria1 = (con<1.03) & (qua>0.2) & (sta%2==0)\n",
    "        criteria2 = (pre>0.001) & (pre<261)\n",
    "        criteria3 = pre[criteria2]>100\n",
    "        criteria4 = (qua[criteria1]<0.9) \n",
    "        mg[criteria1,:][:,criteria2][:, ~criteria3][~criteria4,:] = mol[criteria1,:][:,criteria2][:, ~criteria3][~criteria4,:]\n",
    "        mp[criteria1,:][:,criteria2][:, ~criteria3][~criteria4,:] = prc[criteria1,:][:,criteria2][:, ~criteria3][~criteria4,:]\n",
    "        mg[:,ll] = np.nan; mp[:,ll] = np.nan\n",
    "        \n",
    "    elif field == 'H2O':\n",
    "        criteria1 = (con<2.0) & (qua>1.45) & (sta%2==0) & (sta!=16) & (sta!=32)\n",
    "        criteria2 = (pre>0.002) & (pre<317)\n",
    "        mg[criteria1,:][:,criteria2] = mol[criteria1,:][:,criteria2] * (1.0e6)\n",
    "        mp[criteria1,:][:,criteria2] = prc[criteria1,:][:,criteria2]\n",
    "        \n",
    "    elif field == 'O3':\n",
    "        criteria1 = (con<1.03) & (qua>1.0) & (sta%2==0)\n",
    "        criteria2 = (pre>0.02) & (pre<261)\n",
    "        mg[criteria1,:][:,criteria2] = mol[criteria1,:][:,criteria2] * (1.0e6)\n",
    "        mp[criteria1,:][:,criteria2] = prc[criteria1,:][:,criteria2]\n",
    "        mg[:,ll] = np.nan; mp[:,ll] = np.nan\n",
    "        mg[:,eo] = np.nan; mp[:,eo] = np.nan\n",
    "        \n",
    "    mg[mp<0] = np.nan  \n",
    "    return field,con,mp,mg,qua,sta,nlev,ntim   \n",
    "\n",
    "def create_ozh(ozfiles):\n",
    "    cols = ['ozo', 't', 'water', 'gph']\n",
    "    day = str(ozfiles.split('.')[0].split('_')[-1])\n",
    "    date = pd.to_datetime(int(day.split('d')[0]), format='%Y') + pd.to_timedelta(int(day.split('d')[1]) - 1, unit='d')\n",
    "    date = str(date.date())\n",
    "    lat,lon,pre,lsa,lst,oga,sza,tim,chn = read_lat_lon(ozfiles)\n",
    "    data = np.zeros((lat.shape[0], pre.shape[0], len(cols)))\n",
    "    for i, var in enumerate(cols):\n",
    "        files = glob.glob(cpath + var +'/*.he5'); files = sorted(files)\n",
    "        name = [file for file in files if day in file][0]\n",
    "        field,con,prc,mol,qua,sta,nlev,ntim = correction(name, pre); data[:,:,i] = mol\n",
    "    ds = xr.DataArray(data, coords = [lat, pre, cols], dims = ['Latitude', 'Pressure', 'Variables'])\n",
    "    ds.attrs['discription'] = 'Ozone, Temperature, Water, Geopotential Height for ' + date    \n",
    "    dss = xr.Dataset({'ozh':ds})\n",
    "    dss.coords['Longitude'] = lon\n",
    "    #dss = dss.assign_coords(Longitude=lon)\n",
    "    ofile = opath + date + '.nc'; dss.to_netcdf(ofile)\n",
    "    return dss   "
   ]
  },
  {
   "cell_type": "code",
   "execution_count": 1,
   "metadata": {},
   "outputs": [
    {
     "ename": "NameError",
     "evalue": "name 'glob' is not defined",
     "output_type": "error",
     "traceback": [
      "\u001b[0;31m---------------------------------------------------------------------------\u001b[0m",
      "\u001b[0;31mNameError\u001b[0m                                 Traceback (most recent call last)",
      "\u001b[0;32m<ipython-input-1-c7f2ca66b321>\u001b[0m in \u001b[0;36m<module>\u001b[0;34m()\u001b[0m\n\u001b[0;32m----> 1\u001b[0;31m \u001b[0mget_ipython\u001b[0m\u001b[0;34m(\u001b[0m\u001b[0;34m)\u001b[0m\u001b[0;34m.\u001b[0m\u001b[0mrun_cell_magic\u001b[0m\u001b[0;34m(\u001b[0m\u001b[0;34mu'time'\u001b[0m\u001b[0;34m,\u001b[0m \u001b[0;34mu''\u001b[0m\u001b[0;34m,\u001b[0m \u001b[0;34mu\"ozfiles = glob.glob(fpath+'/*.he5')\\nozfiles = sorted(ozfiles)[:1]\\nfor count, filename in enumerate(ozfiles):\\n    print(count+1)\\n    try:\\n        ds = create_ozh(filename)\\n        print(ds)\\n    except:\\n        print(filename)            \\nprint 'done'\"\u001b[0m\u001b[0;34m)\u001b[0m\u001b[0;34m\u001b[0m\u001b[0m\n\u001b[0m",
      "\u001b[0;32m/home/pankaj/.local/Anaconda2/lib/python2.7/site-packages/IPython/core/interactiveshell.pyc\u001b[0m in \u001b[0;36mrun_cell_magic\u001b[0;34m(self, magic_name, line, cell)\u001b[0m\n\u001b[1;32m   2115\u001b[0m             \u001b[0mmagic_arg_s\u001b[0m \u001b[0;34m=\u001b[0m \u001b[0mself\u001b[0m\u001b[0;34m.\u001b[0m\u001b[0mvar_expand\u001b[0m\u001b[0;34m(\u001b[0m\u001b[0mline\u001b[0m\u001b[0;34m,\u001b[0m \u001b[0mstack_depth\u001b[0m\u001b[0;34m)\u001b[0m\u001b[0;34m\u001b[0m\u001b[0m\n\u001b[1;32m   2116\u001b[0m             \u001b[0;32mwith\u001b[0m \u001b[0mself\u001b[0m\u001b[0;34m.\u001b[0m\u001b[0mbuiltin_trap\u001b[0m\u001b[0;34m:\u001b[0m\u001b[0;34m\u001b[0m\u001b[0m\n\u001b[0;32m-> 2117\u001b[0;31m                 \u001b[0mresult\u001b[0m \u001b[0;34m=\u001b[0m \u001b[0mfn\u001b[0m\u001b[0;34m(\u001b[0m\u001b[0mmagic_arg_s\u001b[0m\u001b[0;34m,\u001b[0m \u001b[0mcell\u001b[0m\u001b[0;34m)\u001b[0m\u001b[0;34m\u001b[0m\u001b[0m\n\u001b[0m\u001b[1;32m   2118\u001b[0m             \u001b[0;32mreturn\u001b[0m \u001b[0mresult\u001b[0m\u001b[0;34m\u001b[0m\u001b[0m\n\u001b[1;32m   2119\u001b[0m \u001b[0;34m\u001b[0m\u001b[0m\n",
      "\u001b[0;32m<decorator-gen-60>\u001b[0m in \u001b[0;36mtime\u001b[0;34m(self, line, cell, local_ns)\u001b[0m\n",
      "\u001b[0;32m/home/pankaj/.local/Anaconda2/lib/python2.7/site-packages/IPython/core/magic.pyc\u001b[0m in \u001b[0;36m<lambda>\u001b[0;34m(f, *a, **k)\u001b[0m\n\u001b[1;32m    186\u001b[0m     \u001b[0;31m# but it's overkill for just that one bit of state.\u001b[0m\u001b[0;34m\u001b[0m\u001b[0;34m\u001b[0m\u001b[0m\n\u001b[1;32m    187\u001b[0m     \u001b[0;32mdef\u001b[0m \u001b[0mmagic_deco\u001b[0m\u001b[0;34m(\u001b[0m\u001b[0marg\u001b[0m\u001b[0;34m)\u001b[0m\u001b[0;34m:\u001b[0m\u001b[0;34m\u001b[0m\u001b[0m\n\u001b[0;32m--> 188\u001b[0;31m         \u001b[0mcall\u001b[0m \u001b[0;34m=\u001b[0m \u001b[0;32mlambda\u001b[0m \u001b[0mf\u001b[0m\u001b[0;34m,\u001b[0m \u001b[0;34m*\u001b[0m\u001b[0ma\u001b[0m\u001b[0;34m,\u001b[0m \u001b[0;34m**\u001b[0m\u001b[0mk\u001b[0m\u001b[0;34m:\u001b[0m \u001b[0mf\u001b[0m\u001b[0;34m(\u001b[0m\u001b[0;34m*\u001b[0m\u001b[0ma\u001b[0m\u001b[0;34m,\u001b[0m \u001b[0;34m**\u001b[0m\u001b[0mk\u001b[0m\u001b[0;34m)\u001b[0m\u001b[0;34m\u001b[0m\u001b[0m\n\u001b[0m\u001b[1;32m    189\u001b[0m \u001b[0;34m\u001b[0m\u001b[0m\n\u001b[1;32m    190\u001b[0m         \u001b[0;32mif\u001b[0m \u001b[0mcallable\u001b[0m\u001b[0;34m(\u001b[0m\u001b[0marg\u001b[0m\u001b[0;34m)\u001b[0m\u001b[0;34m:\u001b[0m\u001b[0;34m\u001b[0m\u001b[0m\n",
      "\u001b[0;32m/home/pankaj/.local/Anaconda2/lib/python2.7/site-packages/IPython/core/magics/execution.pyc\u001b[0m in \u001b[0;36mtime\u001b[0;34m(self, line, cell, local_ns)\u001b[0m\n\u001b[1;32m   1191\u001b[0m         \u001b[0;32melse\u001b[0m\u001b[0;34m:\u001b[0m\u001b[0;34m\u001b[0m\u001b[0m\n\u001b[1;32m   1192\u001b[0m             \u001b[0mst\u001b[0m \u001b[0;34m=\u001b[0m \u001b[0mclock2\u001b[0m\u001b[0;34m(\u001b[0m\u001b[0;34m)\u001b[0m\u001b[0;34m\u001b[0m\u001b[0m\n\u001b[0;32m-> 1193\u001b[0;31m             \u001b[0;32mexec\u001b[0m\u001b[0;34m(\u001b[0m\u001b[0mcode\u001b[0m\u001b[0;34m,\u001b[0m \u001b[0mglob\u001b[0m\u001b[0;34m,\u001b[0m \u001b[0mlocal_ns\u001b[0m\u001b[0;34m)\u001b[0m\u001b[0;34m\u001b[0m\u001b[0m\n\u001b[0m\u001b[1;32m   1194\u001b[0m             \u001b[0mend\u001b[0m \u001b[0;34m=\u001b[0m \u001b[0mclock2\u001b[0m\u001b[0;34m(\u001b[0m\u001b[0;34m)\u001b[0m\u001b[0;34m\u001b[0m\u001b[0m\n\u001b[1;32m   1195\u001b[0m             \u001b[0mout\u001b[0m \u001b[0;34m=\u001b[0m \u001b[0mNone\u001b[0m\u001b[0;34m\u001b[0m\u001b[0m\n",
      "\u001b[0;32m<timed exec>\u001b[0m in \u001b[0;36m<module>\u001b[0;34m()\u001b[0m\n",
      "\u001b[0;31mNameError\u001b[0m: name 'glob' is not defined"
     ]
    }
   ],
   "source": [
    "%%time\n",
    "ozfiles = glob.glob(fpath+'/*.he5')\n",
    "ozfiles = sorted(ozfiles)[:1]\n",
    "for count, filename in enumerate(ozfiles):\n",
    "    print(count+1)\n",
    "    try:\n",
    "        ds = create_ozh(filename)\n",
    "        print(ds)\n",
    "    except:\n",
    "        print(filename)            \n",
    "print 'done'"
   ]
  }
 ],
 "metadata": {
  "kernelspec": {
   "display_name": "Python 2",
   "language": "python",
   "name": "python2"
  },
  "language_info": {
   "codemirror_mode": {
    "name": "ipython",
    "version": 2
   },
   "file_extension": ".py",
   "mimetype": "text/x-python",
   "name": "python",
   "nbconvert_exporter": "python",
   "pygments_lexer": "ipython2",
   "version": "2.7.15"
  }
 },
 "nbformat": 4,
 "nbformat_minor": 2
}
